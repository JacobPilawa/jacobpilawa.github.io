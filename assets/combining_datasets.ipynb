{
 "cells": [
  {
   "cell_type": "code",
   "execution_count": 62,
   "id": "58000375-d20d-489e-8bef-1f06085d8a01",
   "metadata": {},
   "outputs": [],
   "source": [
    "import numpy as np\n",
    "import pandas as pd\n",
    "import re\n",
    "\n"
   ]
  },
  {
   "cell_type": "markdown",
   "id": "bd51cbb4-f483-4274-89f8-58ddd4f5ae78",
   "metadata": {},
   "source": [
    "- data.txt: McConnel Ma 2013\n",
    "- apj522042t1_ascii.txt: Shankar 2016, Table 1"
   ]
  },
  {
   "cell_type": "markdown",
   "id": "c99ae0ec-6fec-4256-9025-8478a5743109",
   "metadata": {},
   "source": [
    "# McConnell Ma 2013"
   ]
  },
  {
   "cell_type": "code",
   "execution_count": 63,
   "id": "a889850a-7f63-448f-935a-76b2f5c59583",
   "metadata": {},
   "outputs": [],
   "source": [
    "mm13_fn = 'data.txt'\n",
    "mm13_columns = ['Galaxy','Distance','Mbh','Mbh lower','Mbh upper','Morphology',]\n",
    "mm13_col_index = [0,1,2,3,4,15]\n",
    "\n",
    "# Read the file, selecting only specific columns\n",
    "mm13_df = pd.read_csv(mm13_fn,\n",
    "                      skiprows=22,\n",
    "                      delim_whitespace=True, \n",
    "                      names=mm13_columns, \n",
    "                      usecols=mm13_col_index,)\n",
    "\n",
    "mm13_df['Mbh'] = mm13_df['Mbh'] / 1e8\n",
    "mm13_df['Mbh lower'] = mm13_df['Mbh lower'] / 1e8\n",
    "mm13_df['Mbh upper'] = mm13_df['Mbh upper'] / 1e8\n",
    "\n",
    "mm13_df['Source'] = 'MM13'\n"
   ]
  },
  {
   "cell_type": "markdown",
   "id": "caad3085-e0f0-4031-91ba-0f47d9d8954a",
   "metadata": {},
   "source": [
    "# Shankar 2016"
   ]
  },
  {
   "cell_type": "code",
   "execution_count": 64,
   "id": "10574105-cfff-4a14-9b82-f5c114c4a29c",
   "metadata": {},
   "outputs": [
    {
     "name": "stdout",
     "output_type": "stream",
     "text": [
      "       Galaxy  Distance     Mbh  Mbh lower  Mbh upper Morphology Source\n",
      "0     IC 1459      28.4  24.000     14.000     34.000          E    S16\n",
      "1     IC 2560      40.7   0.044      0.022      0.088   Sp (bar)    S16\n",
      "2     IC 4296      40.7  11.000      9.000     13.000          E    S16\n",
      "3         M31       0.7   1.400      1.100      2.300   Sp (bar)    S16\n",
      "4         M49      17.1  25.000     24.000     28.000          E    S16\n",
      "..        ...       ...     ...        ...        ...        ...    ...\n",
      "61   NGC 6251     104.6   5.000      3.000      7.000          E    S16\n",
      "62   NGC 7052      66.4   3.700      2.200      6.300          E    S16\n",
      "63   NGC 7619      51.5  25.000     22.000     33.000          E    S16\n",
      "64   NGC 7768     112.8  13.000      9.000     18.000          E    S16\n",
      "65  UGC 03789      48.4   0.108      0.103      0.113   Sp (bar)    S16\n",
      "\n",
      "[66 rows x 7 columns]\n"
     ]
    }
   ],
   "source": [
    "def parse_mbh(s, float_precision=3):\n",
    "    # Regular expression pattern to capture numbers (integers or floats)\n",
    "    pattern = r'\\$\\{([+-]?\\d*\\.?\\d+)\\}_\\{([+-]?\\d*\\.?\\d+)\\}\\^\\{([+-]?\\d*\\.?\\d+)\\}\\$'\n",
    "    match = re.match(pattern, s)\n",
    "    \n",
    "    if match:\n",
    "        mbh = round(float(match.group(1)), float_precision)\n",
    "        mbh_low = round(float(match.group(2)), float_precision)\n",
    "        mbh_high = round(float(match.group(3)), float_precision)\n",
    "        return mbh, mbh+mbh_low, mbh+mbh_high\n",
    "    else:\n",
    "        raise ValueError(\"Input string is not in the expected format.\")\n",
    "\n",
    "\n",
    "\n",
    "# Read data from file\n",
    "filename = 'apj522042t1_ascii.txt'\n",
    "rows = []\n",
    "\n",
    "with open(filename, 'r') as file:\n",
    "    for i, line in enumerate(file):\n",
    "        if i < 7:  # Skip the first 6 lines\n",
    "            continue\n",
    "        \n",
    "        elements = line.split('\\t')\n",
    "        if len(elements) < 5:  # Skip lines that don't have enough columns\n",
    "            continue\n",
    "        \n",
    "        # Extract the relevant data\n",
    "        galaxy = elements[0]\n",
    "        morphology = elements[1]\n",
    "        distance = float(elements[3])\n",
    "        mbh, mbh_lower, mbh_upper = parse_mbh(elements[4],\n",
    "                                              float_precision=3)\n",
    "        \n",
    "        # Append the row of extracted data\n",
    "        rows.append({\n",
    "            'Galaxy': galaxy,\n",
    "            'Distance': distance,\n",
    "            'Mbh': mbh,\n",
    "            'Mbh lower': mbh_lower,\n",
    "            'Mbh upper': mbh_upper,\n",
    "            'Morphology': morphology\n",
    "        })\n",
    "\n",
    "# Create a pandas dataframe\n",
    "s16_df = pd.DataFrame(rows)\n",
    "\n",
    "# add source\n",
    "s16_df['Source'] = 'S16'\n",
    "\n",
    "# Display the dataframe\n",
    "print(s16_df)"
   ]
  },
  {
   "cell_type": "code",
   "execution_count": 71,
   "id": "ce124570-e03e-450b-b815-e5dda3414e9c",
   "metadata": {},
   "outputs": [
    {
     "data": {
      "text/plain": [
       "Galaxy             M31\n",
       "Distance           0.7\n",
       "Mbh                1.4\n",
       "Mbh lower          1.1\n",
       "Mbh upper          2.3\n",
       "Morphology    Sp (bar)\n",
       "Source             S16\n",
       "Name: 3, dtype: object"
      ]
     },
     "execution_count": 71,
     "metadata": {},
     "output_type": "execute_result"
    }
   ],
   "source": [
    "s16_df.iloc[3]"
   ]
  },
  {
   "cell_type": "markdown",
   "id": "2d95cb4e-501d-4820-8e8a-0b7dc7c5dd01",
   "metadata": {},
   "source": [
    "# Combining All Dataframes and Writing"
   ]
  },
  {
   "cell_type": "code",
   "execution_count": 89,
   "id": "41c3a868-66a6-4630-8996-adcb4476011e",
   "metadata": {},
   "outputs": [],
   "source": [
    "def save_dataframe_to_txt(df, filename='fulldatabase.txt', precision=6):\n",
    "    # Get the column names from the dataframe\n",
    "    headers = df.columns.tolist()\n",
    "    \n",
    "    # Open the file in write mode\n",
    "    with open(filename, 'w') as f:\n",
    "        # Write the header\n",
    "        f.write(\"\\t\".join(headers) + \"\\n\")\n",
    "        \n",
    "        # Iterate through the dataframe rows\n",
    "        for idx, row in df.iterrows():\n",
    "            # Convert each row to string, formatting floating-point values to the specified precision\n",
    "            row_str = \"\\t\".join(\n",
    "                f\"{val:.{precision}f}\".rstrip('0').rstrip('.') if isinstance(val, float) else str(val) \n",
    "                for val in row\n",
    "            )\n",
    "            # Write the row to the file\n",
    "            f.write(row_str + \"\\n\")\n",
    "    \n",
    "    print(f\"Dataframe saved to {filename}\")\n"
   ]
  },
  {
   "cell_type": "code",
   "execution_count": 91,
   "id": "87bb1280-c7c9-4578-9ffa-d3a81f2a30e0",
   "metadata": {},
   "outputs": [],
   "source": [
    "# Assuming df1 and df2 are your two DataFrames\n",
    "merged_df = pd.concat([mm13_df, s16_df], ignore_index=True)"
   ]
  },
  {
   "cell_type": "code",
   "execution_count": 92,
   "id": "5cf8c1ad-6dab-42d0-b974-ca5cb7718754",
   "metadata": {},
   "outputs": [
    {
     "name": "stdout",
     "output_type": "stream",
     "text": [
      "Dataframe saved to fulldatabase.txt\n"
     ]
    }
   ],
   "source": [
    "save_dataframe_to_txt(merged_df,filename='fulldatabase.txt')"
   ]
  },
  {
   "cell_type": "code",
   "execution_count": null,
   "id": "5cb444fc-c869-45ba-b924-0b311d4f8521",
   "metadata": {},
   "outputs": [],
   "source": []
  },
  {
   "cell_type": "code",
   "execution_count": null,
   "id": "ee891aa7-9fd8-43ed-8e93-80145bec6175",
   "metadata": {},
   "outputs": [],
   "source": []
  }
 ],
 "metadata": {
  "kernelspec": {
   "display_name": "Python 3 (ipykernel)",
   "language": "python",
   "name": "python3"
  },
  "language_info": {
   "codemirror_mode": {
    "name": "ipython",
    "version": 3
   },
   "file_extension": ".py",
   "mimetype": "text/x-python",
   "name": "python",
   "nbconvert_exporter": "python",
   "pygments_lexer": "ipython3",
   "version": "3.11.0"
  }
 },
 "nbformat": 4,
 "nbformat_minor": 5
}
